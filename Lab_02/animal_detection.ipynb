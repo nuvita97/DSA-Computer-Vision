{
 "cells": [
  {
   "cell_type": "code",
   "execution_count": 25,
   "metadata": {},
   "outputs": [
    {
     "name": "stdout",
     "output_type": "stream",
     "text": [
      "Requirement already satisfied: ultralytics in /Users/nguyenvietthai/miniconda3/envs/computer-vision/lib/python3.9/site-packages (8.1.1)\n",
      "Requirement already satisfied: matplotlib>=3.3.0 in /Users/nguyenvietthai/miniconda3/envs/computer-vision/lib/python3.9/site-packages (from ultralytics) (3.8.2)\n",
      "Requirement already satisfied: numpy>=1.22.2 in /Users/nguyenvietthai/miniconda3/envs/computer-vision/lib/python3.9/site-packages (from ultralytics) (1.26.2)\n",
      "Requirement already satisfied: opencv-python>=4.6.0 in /Users/nguyenvietthai/miniconda3/envs/computer-vision/lib/python3.9/site-packages (from ultralytics) (4.8.1.78)\n",
      "Requirement already satisfied: pillow>=7.1.2 in /Users/nguyenvietthai/miniconda3/envs/computer-vision/lib/python3.9/site-packages (from ultralytics) (10.1.0)\n",
      "Requirement already satisfied: pyyaml>=5.3.1 in /Users/nguyenvietthai/miniconda3/envs/computer-vision/lib/python3.9/site-packages (from ultralytics) (6.0.1)\n",
      "Requirement already satisfied: requests>=2.23.0 in /Users/nguyenvietthai/miniconda3/envs/computer-vision/lib/python3.9/site-packages (from ultralytics) (2.31.0)\n",
      "Requirement already satisfied: scipy>=1.4.1 in /Users/nguyenvietthai/miniconda3/envs/computer-vision/lib/python3.9/site-packages (from ultralytics) (1.11.4)\n",
      "Requirement already satisfied: torch>=1.8.0 in /Users/nguyenvietthai/miniconda3/envs/computer-vision/lib/python3.9/site-packages (from ultralytics) (2.1.2)\n",
      "Requirement already satisfied: torchvision>=0.9.0 in /Users/nguyenvietthai/miniconda3/envs/computer-vision/lib/python3.9/site-packages (from ultralytics) (0.16.2)\n",
      "Requirement already satisfied: tqdm>=4.64.0 in /Users/nguyenvietthai/miniconda3/envs/computer-vision/lib/python3.9/site-packages (from ultralytics) (4.66.1)\n",
      "Requirement already satisfied: psutil in /Users/nguyenvietthai/miniconda3/envs/computer-vision/lib/python3.9/site-packages (from ultralytics) (5.9.6)\n",
      "Requirement already satisfied: py-cpuinfo in /Users/nguyenvietthai/miniconda3/envs/computer-vision/lib/python3.9/site-packages (from ultralytics) (9.0.0)\n",
      "Requirement already satisfied: thop>=0.1.1 in /Users/nguyenvietthai/miniconda3/envs/computer-vision/lib/python3.9/site-packages (from ultralytics) (0.1.1.post2209072238)\n",
      "Requirement already satisfied: pandas>=1.1.4 in /Users/nguyenvietthai/miniconda3/envs/computer-vision/lib/python3.9/site-packages (from ultralytics) (2.1.4)\n",
      "Requirement already satisfied: seaborn>=0.11.0 in /Users/nguyenvietthai/miniconda3/envs/computer-vision/lib/python3.9/site-packages (from ultralytics) (0.13.1)\n",
      "Requirement already satisfied: hub-sdk>=0.0.2 in /Users/nguyenvietthai/miniconda3/envs/computer-vision/lib/python3.9/site-packages (from ultralytics) (0.0.3)\n",
      "Requirement already satisfied: contourpy>=1.0.1 in /Users/nguyenvietthai/miniconda3/envs/computer-vision/lib/python3.9/site-packages (from matplotlib>=3.3.0->ultralytics) (1.2.0)\n",
      "Requirement already satisfied: cycler>=0.10 in /Users/nguyenvietthai/miniconda3/envs/computer-vision/lib/python3.9/site-packages (from matplotlib>=3.3.0->ultralytics) (0.12.1)\n",
      "Requirement already satisfied: fonttools>=4.22.0 in /Users/nguyenvietthai/miniconda3/envs/computer-vision/lib/python3.9/site-packages (from matplotlib>=3.3.0->ultralytics) (4.46.0)\n",
      "Requirement already satisfied: kiwisolver>=1.3.1 in /Users/nguyenvietthai/miniconda3/envs/computer-vision/lib/python3.9/site-packages (from matplotlib>=3.3.0->ultralytics) (1.4.5)\n",
      "Requirement already satisfied: packaging>=20.0 in /Users/nguyenvietthai/miniconda3/envs/computer-vision/lib/python3.9/site-packages (from matplotlib>=3.3.0->ultralytics) (23.2)\n",
      "Requirement already satisfied: pyparsing>=2.3.1 in /Users/nguyenvietthai/miniconda3/envs/computer-vision/lib/python3.9/site-packages (from matplotlib>=3.3.0->ultralytics) (3.1.1)\n",
      "Requirement already satisfied: python-dateutil>=2.7 in /Users/nguyenvietthai/miniconda3/envs/computer-vision/lib/python3.9/site-packages (from matplotlib>=3.3.0->ultralytics) (2.8.2)\n",
      "Requirement already satisfied: importlib-resources>=3.2.0 in /Users/nguyenvietthai/miniconda3/envs/computer-vision/lib/python3.9/site-packages (from matplotlib>=3.3.0->ultralytics) (6.1.1)\n",
      "Requirement already satisfied: pytz>=2020.1 in /Users/nguyenvietthai/miniconda3/envs/computer-vision/lib/python3.9/site-packages (from pandas>=1.1.4->ultralytics) (2023.3.post1)\n",
      "Requirement already satisfied: tzdata>=2022.1 in /Users/nguyenvietthai/miniconda3/envs/computer-vision/lib/python3.9/site-packages (from pandas>=1.1.4->ultralytics) (2023.3)\n",
      "Requirement already satisfied: charset-normalizer<4,>=2 in /Users/nguyenvietthai/miniconda3/envs/computer-vision/lib/python3.9/site-packages (from requests>=2.23.0->ultralytics) (3.3.2)\n",
      "Requirement already satisfied: idna<4,>=2.5 in /Users/nguyenvietthai/miniconda3/envs/computer-vision/lib/python3.9/site-packages (from requests>=2.23.0->ultralytics) (3.6)\n",
      "Requirement already satisfied: urllib3<3,>=1.21.1 in /Users/nguyenvietthai/miniconda3/envs/computer-vision/lib/python3.9/site-packages (from requests>=2.23.0->ultralytics) (2.1.0)\n",
      "Requirement already satisfied: certifi>=2017.4.17 in /Users/nguyenvietthai/miniconda3/envs/computer-vision/lib/python3.9/site-packages (from requests>=2.23.0->ultralytics) (2023.11.17)\n",
      "Requirement already satisfied: filelock in /Users/nguyenvietthai/miniconda3/envs/computer-vision/lib/python3.9/site-packages (from torch>=1.8.0->ultralytics) (3.13.1)\n",
      "Requirement already satisfied: typing-extensions in /Users/nguyenvietthai/miniconda3/envs/computer-vision/lib/python3.9/site-packages (from torch>=1.8.0->ultralytics) (4.9.0)\n",
      "Requirement already satisfied: sympy in /Users/nguyenvietthai/miniconda3/envs/computer-vision/lib/python3.9/site-packages (from torch>=1.8.0->ultralytics) (1.12)\n",
      "Requirement already satisfied: networkx in /Users/nguyenvietthai/miniconda3/envs/computer-vision/lib/python3.9/site-packages (from torch>=1.8.0->ultralytics) (3.2.1)\n",
      "Requirement already satisfied: jinja2 in /Users/nguyenvietthai/miniconda3/envs/computer-vision/lib/python3.9/site-packages (from torch>=1.8.0->ultralytics) (3.1.2)\n",
      "Requirement already satisfied: fsspec in /Users/nguyenvietthai/miniconda3/envs/computer-vision/lib/python3.9/site-packages (from torch>=1.8.0->ultralytics) (2023.12.2)\n",
      "Requirement already satisfied: zipp>=3.1.0 in /Users/nguyenvietthai/miniconda3/envs/computer-vision/lib/python3.9/site-packages (from importlib-resources>=3.2.0->matplotlib>=3.3.0->ultralytics) (3.17.0)\n",
      "Requirement already satisfied: six>=1.5 in /Users/nguyenvietthai/miniconda3/envs/computer-vision/lib/python3.9/site-packages (from python-dateutil>=2.7->matplotlib>=3.3.0->ultralytics) (1.16.0)\n",
      "Requirement already satisfied: MarkupSafe>=2.0 in /Users/nguyenvietthai/miniconda3/envs/computer-vision/lib/python3.9/site-packages (from jinja2->torch>=1.8.0->ultralytics) (2.1.3)\n",
      "Requirement already satisfied: mpmath>=0.19 in /Users/nguyenvietthai/miniconda3/envs/computer-vision/lib/python3.9/site-packages (from sympy->torch>=1.8.0->ultralytics) (1.3.0)\n",
      "Note: you may need to restart the kernel to use updated packages.\n"
     ]
    }
   ],
   "source": [
    "pip install ultralytics"
   ]
  },
  {
   "cell_type": "code",
   "execution_count": 26,
   "metadata": {},
   "outputs": [],
   "source": [
    "from ultralytics import YOLO\n",
    "import csv\n",
    "import os"
   ]
  },
  {
   "cell_type": "markdown",
   "metadata": {},
   "source": [
    "Dataset: https://www.kaggle.com/datasets/tarunbisht11/yolo-animal-detection-small?resource=download"
   ]
  },
  {
   "cell_type": "code",
   "execution_count": 44,
   "metadata": {},
   "outputs": [],
   "source": [
    "# Create labels for train and val\n",
    "\n",
    "# Create a dictionary to store image data\n",
    "image_data = {}\n",
    "\n",
    "# Define a dictionary to map class names to IDs\n",
    "class_ids = {\"monkey\": 0, \"cat\": 1, \"dog\": 2}\n",
    "\n",
    "def make_labels_txt(csv_file):\n",
    "\n",
    "    # Create labels folder\n",
    "    os.makedirs(f'data/{csv_file}/labels', exist_ok=True)\n",
    "\n",
    "    # Open the CSV file\n",
    "    with open(f'data/{csv_file}.csv', 'r') as csvfile:\n",
    "        reader = csv.reader(csvfile)    \n",
    "        next(reader)  # Skip the header row\n",
    "        for row in reader:\n",
    "            filename, img_width, img_height, class_name, xmin, ymin, xmax, ymax = row\n",
    "\n",
    "            # Calculate the center, width and height of the bounding box\n",
    "            x_center = (float(xmin) + float(xmax)) / 2 / float(img_width)\n",
    "            y_center = (float(ymin) + float(ymax)) / 2 / float(img_height)\n",
    "            width = (float(xmax) - float(xmin)) / float(img_width)\n",
    "            height = (float(ymax) - float(ymin)) / float(img_height)\n",
    "\n",
    "            # Get the class_id from the dictionary\n",
    "            class_id = class_ids[class_name]\n",
    "\n",
    "            # Add the data to the dictionary\n",
    "            if filename in image_data:\n",
    "                image_data[filename].append([class_id, x_center, y_center, width, height])\n",
    "            else:\n",
    "                image_data[filename] = [[class_id, x_center, y_center, width, height]]\n",
    "\n",
    "    # Write the data to text files\n",
    "    for filename, boxes in image_data.items():\n",
    "        with open(os.path.join(f'data/{csv_file}/labels', f'{os.path.splitext(filename)[0]}.txt'), 'w') as file:\n",
    "                for box in boxes:\n",
    "                    file.write(' '.join(map(str, box)) + '\\n')"
   ]
  },
  {
   "cell_type": "code",
   "execution_count": 45,
   "metadata": {},
   "outputs": [],
   "source": [
    "# Make labels for train data\n",
    "make_labels_txt(\"train\")\n",
    "\n",
    "# Make labels for val data\n",
    "make_labels_txt(\"val\")"
   ]
  },
  {
   "cell_type": "code",
   "execution_count": 47,
   "metadata": {},
   "outputs": [
    {
     "name": "stdout",
     "output_type": "stream",
     "text": [
      "1 0.5822784810126582 0.7894736842105263 0.5569620253164557 0.41353383458646614\n",
      "0 0.7120253164556962 0.4116541353383459 0.5759493670886076 0.7556390977443609\n",
      "\n"
     ]
    }
   ],
   "source": [
    "# Open the file and print its contents\n",
    "with open('data/train/labels/cats_and_monkeys_001.txt', 'r') as file:\n",
    "    print(file.read())"
   ]
  },
  {
   "cell_type": "code",
   "execution_count": 48,
   "metadata": {},
   "outputs": [
    {
     "name": "stdout",
     "output_type": "stream",
     "text": [
      "1 0.540084388185654 0.6105341246290801 0.8818565400843882 0.6068249258160238\n",
      "0 0.45569620253164556 0.5178041543026706 0.9071729957805907 0.913946587537092\n",
      "\n"
     ]
    }
   ],
   "source": [
    "# Open the file and print its contents\n",
    "with open('data/val/labels/cats_and_monkeys_000.txt', 'r') as file:\n",
    "    print(file.read())"
   ]
  },
  {
   "cell_type": "code",
   "execution_count": 42,
   "metadata": {},
   "outputs": [
    {
     "ename": "FileNotFoundError",
     "evalue": "[Errno 2] No such file or directory: 'data/val/labels'",
     "output_type": "error",
     "traceback": [
      "\u001b[0;31m---------------------------------------------------------------------------\u001b[0m",
      "\u001b[0;31mFileNotFoundError\u001b[0m                         Traceback (most recent call last)",
      "Cell \u001b[0;32mIn[42], line 5\u001b[0m\n\u001b[1;32m      1\u001b[0m \u001b[38;5;28;01mimport\u001b[39;00m \u001b[38;5;21;01mshutil\u001b[39;00m\n\u001b[1;32m      3\u001b[0m \u001b[38;5;66;03m# Remove the 'labels' directories in 'train' and 'test'\u001b[39;00m\n\u001b[1;32m      4\u001b[0m \u001b[38;5;66;03m# shutil.rmtree('data/train/labels')\u001b[39;00m\n\u001b[0;32m----> 5\u001b[0m \u001b[43mshutil\u001b[49m\u001b[38;5;241;43m.\u001b[39;49m\u001b[43mrmtree\u001b[49m\u001b[43m(\u001b[49m\u001b[38;5;124;43m'\u001b[39;49m\u001b[38;5;124;43mdata/val/labels\u001b[39;49m\u001b[38;5;124;43m'\u001b[39;49m\u001b[43m)\u001b[49m\n",
      "File \u001b[0;32m~/miniconda3/envs/computer-vision/lib/python3.9/shutil.py:724\u001b[0m, in \u001b[0;36mrmtree\u001b[0;34m(path, ignore_errors, onerror)\u001b[0m\n\u001b[1;32m    722\u001b[0m     orig_st \u001b[38;5;241m=\u001b[39m os\u001b[38;5;241m.\u001b[39mlstat(path)\n\u001b[1;32m    723\u001b[0m \u001b[38;5;28;01mexcept\u001b[39;00m \u001b[38;5;167;01mException\u001b[39;00m:\n\u001b[0;32m--> 724\u001b[0m     \u001b[43monerror\u001b[49m\u001b[43m(\u001b[49m\u001b[43mos\u001b[49m\u001b[38;5;241;43m.\u001b[39;49m\u001b[43mlstat\u001b[49m\u001b[43m,\u001b[49m\u001b[43m \u001b[49m\u001b[43mpath\u001b[49m\u001b[43m,\u001b[49m\u001b[43m \u001b[49m\u001b[43msys\u001b[49m\u001b[38;5;241;43m.\u001b[39;49m\u001b[43mexc_info\u001b[49m\u001b[43m(\u001b[49m\u001b[43m)\u001b[49m\u001b[43m)\u001b[49m\n\u001b[1;32m    725\u001b[0m     \u001b[38;5;28;01mreturn\u001b[39;00m\n\u001b[1;32m    726\u001b[0m \u001b[38;5;28;01mtry\u001b[39;00m:\n",
      "File \u001b[0;32m~/miniconda3/envs/computer-vision/lib/python3.9/shutil.py:722\u001b[0m, in \u001b[0;36mrmtree\u001b[0;34m(path, ignore_errors, onerror)\u001b[0m\n\u001b[1;32m    719\u001b[0m \u001b[38;5;66;03m# Note: To guard against symlink races, we use the standard\u001b[39;00m\n\u001b[1;32m    720\u001b[0m \u001b[38;5;66;03m# lstat()/open()/fstat() trick.\u001b[39;00m\n\u001b[1;32m    721\u001b[0m \u001b[38;5;28;01mtry\u001b[39;00m:\n\u001b[0;32m--> 722\u001b[0m     orig_st \u001b[38;5;241m=\u001b[39m \u001b[43mos\u001b[49m\u001b[38;5;241;43m.\u001b[39;49m\u001b[43mlstat\u001b[49m\u001b[43m(\u001b[49m\u001b[43mpath\u001b[49m\u001b[43m)\u001b[49m\n\u001b[1;32m    723\u001b[0m \u001b[38;5;28;01mexcept\u001b[39;00m \u001b[38;5;167;01mException\u001b[39;00m:\n\u001b[1;32m    724\u001b[0m     onerror(os\u001b[38;5;241m.\u001b[39mlstat, path, sys\u001b[38;5;241m.\u001b[39mexc_info())\n",
      "\u001b[0;31mFileNotFoundError\u001b[0m: [Errno 2] No such file or directory: 'data/val/labels'"
     ]
    }
   ],
   "source": [
    "import shutil\n",
    "\n",
    "# Remove the 'labels' directories in 'train' and 'test'\n",
    "# shutil.rmtree('data/train/labels')\n",
    "shutil.rmtree('data/val/labels')"
   ]
  },
  {
   "cell_type": "code",
   "execution_count": null,
   "metadata": {},
   "outputs": [],
   "source": []
  },
  {
   "cell_type": "code",
   "execution_count": null,
   "metadata": {},
   "outputs": [],
   "source": []
  }
 ],
 "metadata": {
  "kernelspec": {
   "display_name": "computer-vision",
   "language": "python",
   "name": "python3"
  },
  "language_info": {
   "codemirror_mode": {
    "name": "ipython",
    "version": 3
   },
   "file_extension": ".py",
   "mimetype": "text/x-python",
   "name": "python",
   "nbconvert_exporter": "python",
   "pygments_lexer": "ipython3",
   "version": "3.9.18"
  }
 },
 "nbformat": 4,
 "nbformat_minor": 2
}
